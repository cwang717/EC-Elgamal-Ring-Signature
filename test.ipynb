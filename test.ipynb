{
 "cells": [
  {
   "cell_type": "code",
   "execution_count": 19,
   "metadata": {},
   "outputs": [],
   "source": [
    "from ecc.curve import Curve25519\n",
    "from ecc.key import gen_keypair\n",
    "from ecc.cipher import ElGamal\n",
    "import random\n",
    "import time\n",
    "import numpy as np"
   ]
  },
  {
   "cell_type": "markdown",
   "metadata": {},
   "source": [
    "## Encryption"
   ]
  },
  {
   "cell_type": "code",
   "execution_count": 9,
   "metadata": {},
   "outputs": [
    {
     "name": "stdout",
     "output_type": "stream",
     "text": [
      "True\n"
     ]
    }
   ],
   "source": [
    "# Plaintext\n",
    "plaintext = b\"I am plaintext.\"\n",
    "# Generate key pair\n",
    "pri_key, pub_key = gen_keypair(Curve25519)\n",
    "# Encrypt using ElGamal algorithm\n",
    "cipher_elg = ElGamal(Curve25519)\n",
    "C1, C2 = cipher_elg.encrypt(plaintext, pub_key)\n",
    "# Decrypt\n",
    "new_plaintext = cipher_elg.decrypt(pri_key, C1, C2)\n",
    "\n",
    "print(new_plaintext == plaintext)"
   ]
  },
  {
   "cell_type": "markdown",
   "metadata": {},
   "source": [
    "## ECDSA"
   ]
  },
  {
   "cell_type": "code",
   "execution_count": 10,
   "metadata": {},
   "outputs": [
    {
     "name": "stdout",
     "output_type": "stream",
     "text": [
      "True\n"
     ]
    }
   ],
   "source": [
    "M = cipher_elg.curve.encode_point(plaintext)\n",
    "G = cipher_elg.curve.G\n",
    "\n",
    "k = random.randint(1, cipher_elg.curve.n)\n",
    "r = ((k*G).x)%cipher_elg.curve.n\n",
    "s = ((M.x + r*pri_key) % cipher_elg.curve.n)*pow(k, -1, cipher_elg.curve.n)\n",
    "\n",
    "u1 = (M.x*pow(s, -1, cipher_elg.curve.n)) % cipher_elg.curve.n\n",
    "u2 = (r*pow(s, -1, cipher_elg.curve.n)) % cipher_elg.curve.n\n",
    "\n",
    "print((u1*G + u2*pub_key).x % cipher_elg.curve.n == r)"
   ]
  },
  {
   "cell_type": "markdown",
   "metadata": {},
   "source": [
    "### Forgery Signature"
   ]
  },
  {
   "cell_type": "code",
   "execution_count": 11,
   "metadata": {},
   "outputs": [
    {
     "data": {
      "text/plain": [
       "True"
      ]
     },
     "execution_count": 11,
     "metadata": {},
     "output_type": "execute_result"
    }
   ],
   "source": [
    "k1 = random.randint(1, cipher_elg.curve.n)\n",
    "k2 = random.randint(1, cipher_elg.curve.n)\n",
    "\n",
    "R1 = k1*G + k2*pub_key\n",
    "s1 = (-pow(k2, -1, cipher_elg.curve.n)*R1.x) % cipher_elg.curve.n\n",
    "m = (k1*s1) % cipher_elg.curve.n\n",
    "\n",
    "m*G == R1.x*pub_key+s1*R1"
   ]
  },
  {
   "cell_type": "markdown",
   "metadata": {},
   "source": [
    "## Helper Functions"
   ]
  },
  {
   "cell_type": "code",
   "execution_count": 12,
   "metadata": {},
   "outputs": [],
   "source": [
    "def convert_to_b_list(m, N):\n",
    "    bits = [0]*N\n",
    "    n = m\n",
    "    for i in range(N):\n",
    "        if (n==0):\n",
    "            break\n",
    "        bits[N-1-i]=n%2\n",
    "        n = n >> 1\n",
    "    return bits\n",
    "\n",
    "def convert_from_b_list(l):\n",
    "    m = 0\n",
    "    for i in range(len(l)):\n",
    "        m = m*2 + l[i]\n",
    "    \n",
    "    return m"
   ]
  },
  {
   "cell_type": "markdown",
   "metadata": {},
   "source": [
    "## Lagrangian Interpolation on GF"
   ]
  },
  {
   "cell_type": "code",
   "execution_count": 13,
   "metadata": {},
   "outputs": [],
   "source": [
    "import itertools\n",
    "from functools import reduce\n",
    "from sympy import symbols, Dummy\n",
    "from sympy.polys.domains import ZZ\n",
    "from sympy.polys.galoistools import (gf_irreducible_p, gf_add, \\\n",
    "                                     gf_sub, gf_mul, gf_rem, gf_gcdex)\n",
    "from sympy.ntheory.primetest import isprime\n",
    "\n",
    "class GF():\n",
    "    def __init__(self, p, n=1):\n",
    "        p, n = int(p), int(n)\n",
    "        if not isprime(p):\n",
    "            raise ValueError(\"p must be a prime number, not %s\" % p)\n",
    "        if n <= 0:\n",
    "            raise ValueError(\"n must be a positive integer, not %s\" % n)\n",
    "        self.p = p\n",
    "        self.n = n\n",
    "        if n == 1:\n",
    "            self.reducing = [1, 0]\n",
    "        else:\n",
    "            for c in itertools.product(range(p), repeat=n):\n",
    "              poly = (1, *c)\n",
    "              if gf_irreducible_p(poly, p, ZZ):\n",
    "                  self.reducing = poly\n",
    "                  break\n",
    "\n",
    "    def add(self, x, y):\n",
    "        return gf_add(x, y, self.p, ZZ)\n",
    "\n",
    "    def sub(self, x, y):\n",
    "        return gf_sub(x, y, self.p, ZZ)\n",
    "\n",
    "    def mul(self, x, y):\n",
    "        return gf_rem(gf_mul(x, y, self.p, ZZ), self.reducing, self.p, ZZ)\n",
    "\n",
    "    def inv(self, x):\n",
    "        s, t, h = gf_gcdex(x, self.reducing, self.p, ZZ)\n",
    "        return s\n",
    "\n",
    "    def eval_poly(self, poly, point):\n",
    "        val = []\n",
    "        for c in poly:\n",
    "            val = self.mul(val, point)\n",
    "            val = self.add(val, c)\n",
    "        return [int(e) for e in val]\n",
    "\n",
    "class PolyRing():\n",
    "    def __init__(self, field):\n",
    "        self.K = field\n",
    "\n",
    "    def add(self, p, q):\n",
    "        s = [self.K.add(x, y) for x, y in \\\n",
    "             itertools.zip_longest(p[::-1], q[::-1], fillvalue=[])]\n",
    "        return s[::-1]       \n",
    "\n",
    "    def sub(self, p, q):\n",
    "        s = [self.K.sub(x, y) for x, y in \\\n",
    "             itertools.zip_longest(p[::-1], q[::-1], fillvalue=[])]\n",
    "        return s[::-1]     \n",
    "\n",
    "    def mul(self, p, q):\n",
    "        if len(p) < len(q):\n",
    "            p, q = q, p\n",
    "        s = [[]]\n",
    "        for j, c in enumerate(q):\n",
    "            s = self.add(s, [self.K.mul(b, c) for b in p] + \\\n",
    "                         [[]] * (len(q) - j - 1))\n",
    "        return s\n",
    "\n",
    "def interp_poly(X, Y, K):\n",
    "    R = PolyRing(K)\n",
    "    poly = [[]]\n",
    "    for j, y in enumerate(Y):\n",
    "        Xe = X[:j] + X[j+1:]\n",
    "        numer = reduce(lambda p, q: R.mul(p, q), ([[1], K.sub([], x)] for x in Xe))\n",
    "        denom = reduce(lambda x, y: K.mul(x, y), (K.sub(X[j], x) for x in Xe))\n",
    "        poly = R.add(poly, R.mul(numer, [K.mul(y, K.inv(denom))]))\n",
    "    return poly"
   ]
  },
  {
   "cell_type": "markdown",
   "metadata": {},
   "source": [
    "## Experiments"
   ]
  },
  {
   "cell_type": "code",
   "execution_count": 14,
   "metadata": {},
   "outputs": [],
   "source": [
    "N = 254\n",
    "field = GF(2, N)"
   ]
  },
  {
   "cell_type": "markdown",
   "metadata": {},
   "source": [
    "### Initiator"
   ]
  },
  {
   "cell_type": "code",
   "execution_count": 15,
   "metadata": {},
   "outputs": [
    {
     "name": "stdout",
     "output_type": "stream",
     "text": [
      "0.49385952949523926\n",
      "0.5443542003631592\n",
      "0.5919926166534424\n",
      "0.6458594799041748\n",
      "0.6913547515869141\n",
      "0.7375326156616211\n",
      "0.792057991027832\n",
      "0.8426032066345215\n"
     ]
    }
   ],
   "source": [
    "total = 20\n",
    "for t in range(10, 18):\n",
    "    start = time.time()\n",
    "    X = [[]]*t\n",
    "    Y = [[]]*t\n",
    "    for i in range(t):\n",
    "        k1 = random.randint(1, cipher_elg.curve.n)\n",
    "        k2 = random.randint(1, cipher_elg.curve.n)\n",
    "\n",
    "        R1 = k1*G + k2*pub_key\n",
    "        s1 = (-pow(k2, -1, cipher_elg.curve.n)*R1.x) % cipher_elg.curve.n\n",
    "        m = (k1*s1) % cipher_elg.curve.n\n",
    "        \n",
    "        X[i] = convert_to_b_list(i, N)\n",
    "        Y[i] = convert_to_b_list(m, N)\n",
    "    end = time.time()\n",
    "    # print(\"%d\\t%.3f\" % (total - t, end-start))\n",
    "    print(end-start)"
   ]
  },
  {
   "cell_type": "markdown",
   "metadata": {},
   "source": [
    "### Witness"
   ]
  },
  {
   "cell_type": "markdown",
   "metadata": {},
   "source": [
    "#### Single Witness Computational Time"
   ]
  },
  {
   "cell_type": "code",
   "execution_count": 16,
   "metadata": {},
   "outputs": [
    {
     "name": "stdout",
     "output_type": "stream",
     "text": [
      "0.4186136722564697\n",
      "0.513164758682251\n",
      "0.607562780380249\n",
      "0.7467138767242432\n",
      "0.9000668525695801\n",
      "1.095958948135376\n",
      "1.2919669151306152\n",
      "1.5610368251800537\n"
     ]
    }
   ],
   "source": [
    "total = 20\n",
    "for t in range(10, 18):\n",
    "    X = [[]]*t\n",
    "    Y = [[]]*t\n",
    "    for i in range(t):\n",
    "        k1 = random.randint(1, cipher_elg.curve.n)\n",
    "        k2 = random.randint(1, cipher_elg.curve.n)\n",
    "\n",
    "        R1 = k1*G + k2*pub_key\n",
    "        s1 = (-pow(k2, -1, cipher_elg.curve.n)*R1.x) % cipher_elg.curve.n\n",
    "        m = (k1*s1) % cipher_elg.curve.n\n",
    "        \n",
    "        X[i] = convert_to_b_list(i, N)\n",
    "        Y[i] = convert_to_b_list(m, N)\n",
    "\n",
    "    ## single witness\n",
    "    start = time.time()\n",
    "    \n",
    "    intpoly = interp_poly(X, Y, field)\n",
    "    singleX = convert_to_b_list(t+1, N)\n",
    "    singleY = field.eval_poly(intpoly, singleX)\n",
    "    m = convert_from_b_list(singleY)\n",
    "    \n",
    "    k = random.randint(1, cipher_elg.curve.n)\n",
    "    R = k*G\n",
    "    s = ((m - R.x*pri_key) % cipher_elg.curve.n)*pow(k, -1, cipher_elg.curve.n)\n",
    "    end = time.time()\n",
    "    # print(\"%d\\t%.3f\" % (total - t, end-start))\n",
    "    print(end-start)"
   ]
  },
  {
   "cell_type": "markdown",
   "metadata": {},
   "source": [
    "#### Multiple Witness Vehicles Computational Time"
   ]
  },
  {
   "cell_type": "code",
   "execution_count": 18,
   "metadata": {},
   "outputs": [
    {
     "name": "stdout",
     "output_type": "stream",
     "text": [
      "1.73471\t0.83534\t2.57005\n",
      "1.71416\t0.92401\t2.63816\n",
      "1.68698\t1.01837\t2.70535\n",
      "1.65258\t1.11974\t2.77232\n",
      "1.64269\t1.24236\t2.88505\n",
      "1.63163\t1.37512\t3.00676\n",
      "1.58672\t1.51870\t3.10542\n",
      "1.56098\t1.70514\t3.26612\n"
     ]
    }
   ],
   "source": [
    "total = 20\n",
    "for t in range(10, 18):\n",
    "    X = [[]]*t\n",
    "    Y = [[]]*t\n",
    "    Sig = [{}]*t\n",
    "    for i in range(t):\n",
    "        k1 = random.randint(1, cipher_elg.curve.n)\n",
    "        k2 = random.randint(1, cipher_elg.curve.n)\n",
    "\n",
    "        R1 = k1*G + k2*pub_key\n",
    "        s1 = (-pow(k2, -1, cipher_elg.curve.n)*R1.x) % cipher_elg.curve.n\n",
    "        m = (k1*s1) % cipher_elg.curve.n\n",
    "        \n",
    "        X[i] = convert_to_b_list(i, N)\n",
    "        Y[i] = convert_to_b_list(m, N)\n",
    "        Sig[i] = {\"R\": R1, \"s\": s1, \"m\": m}\n",
    "\n",
    "    ## (total-t) witness\n",
    "    intpoly = interp_poly(X, Y, field)\n",
    "    \n",
    "    newX = [[]]*(total-t)\n",
    "    newY = [[]]*(total-t)\n",
    "    newSig = [{}]*(total-t)\n",
    "    for i in range(total-t):\n",
    "        newX[i] = convert_to_b_list(t+i, N)\n",
    "        newY[i] = field.eval_poly(intpoly, newX[i])\n",
    "        m = convert_from_b_list(singleY)\n",
    "        \n",
    "        k = random.randint(1, cipher_elg.curve.n)\n",
    "        R = k*G\n",
    "        s = ((m - R.x*pri_key) % cipher_elg.curve.n)*pow(k, -1, cipher_elg.curve.n)\n",
    "\n",
    "        newSig[i] = {\"R\": R, \"s\": s, \"m\": m}\n",
    "\n",
    "    totalSig = Sig + newSig\n",
    "\n",
    "    start = time.time()\n",
    "    for sig in totalSig:\n",
    "        if not sig[\"R\"].x*pub_key+sig[\"s\"]*sig[\"R\"] == sig[\"m\"]*G:\n",
    "            print(\"Invalid signature!\")\n",
    "            break\n",
    "    mid = time.time()\n",
    "    intpoly = interp_poly(X, Y, field)\n",
    "    for i in range(len(newX)):\n",
    "        if not newY[i] == field.eval_poly(intpoly, newX[i]):\n",
    "            print(\"Invalid Polynomial!\")\n",
    "            break\n",
    "    end = time.time()\n",
    "    # print(\"%d\\t%.3f\" % (total - t, end-start))\n",
    "    print(\"%.5f\\t%.5f\\t%.5f\" %(mid-start, end-mid, end-start))"
   ]
  },
  {
   "cell_type": "code",
   "execution_count": 22,
   "metadata": {},
   "outputs": [
    {
     "name": "stdout",
     "output_type": "stream",
     "text": [
      "3.83665\t59.11491\t62.95156\n",
      "1.94578\t2.97070\t4.91647\n",
      "1.37996\t0.81776\t2.19772\n",
      "1.07449\t0.40617\t1.48065\n",
      "0.86019\t0.21213\t1.07232\n"
     ]
    }
   ],
   "source": [
    "vehicles = 5\n",
    "for eta in [0.1, 0.2, 0.3, 0.4, 0.5]:\n",
    "    total = int(np.ceil(vehicles/eta))\n",
    "    t = total - vehicles\n",
    "    print(\"====initiator====\")\n",
    "    start = time.time()\n",
    "    X = [[]]*t\n",
    "    Y = [[]]*t\n",
    "    Sig = [{}]*t\n",
    "    for i in range(t):\n",
    "        k1 = random.randint(1, cipher_elg.curve.n)\n",
    "        k2 = random.randint(1, cipher_elg.curve.n)\n",
    "\n",
    "        R1 = k1*G + k2*pub_key\n",
    "        s1 = (-pow(k2, -1, cipher_elg.curve.n)*R1.x) % cipher_elg.curve.n\n",
    "        m = (k1*s1) % cipher_elg.curve.n\n",
    "        \n",
    "        X[i] = convert_to_b_list(i, N)\n",
    "        Y[i] = convert_to_b_list(m, N)\n",
    "        Sig[i] = {\"R\": R1, \"s\": s1, \"m\": m}\n",
    "    end = time.time()\n",
    "    print(end-start)\n",
    "    print(\"====Witness====\")\n",
    "    ## single witness\n",
    "    start = time.time()\n",
    "    \n",
    "    intpoly = interp_poly(X, Y, field)\n",
    "    singleX = convert_to_b_list(t+1, N)\n",
    "    singleY = field.eval_poly(intpoly, singleX)\n",
    "    m = convert_from_b_list(singleY)\n",
    "    \n",
    "    k = random.randint(1, cipher_elg.curve.n)\n",
    "    R = k*G\n",
    "    s = ((m - R.x*pri_key) % cipher_elg.curve.n)*pow(k, -1, cipher_elg.curve.n)\n",
    "    end = time.time()\n",
    "    # print(\"%d\\t%.3f\" % (total - t, end-start))\n",
    "    print(end-start)\n",
    "\n",
    "\n",
    "    ## (total-t) witness\n",
    "    # intpoly = interp_poly(X, Y, field)\n",
    "    \n",
    "    newX = [[]]*(total-t)\n",
    "    newY = [[]]*(total-t)\n",
    "    newSig = [{}]*(total-t)\n",
    "    for i in range(total-t):\n",
    "        newX[i] = convert_to_b_list(t+i, N)\n",
    "        newY[i] = field.eval_poly(intpoly, newX[i])\n",
    "        m = convert_from_b_list(singleY)\n",
    "        \n",
    "        k = random.randint(1, cipher_elg.curve.n)\n",
    "        R = k*G\n",
    "        s = ((m - R.x*pri_key) % cipher_elg.curve.n)*pow(k, -1, cipher_elg.curve.n)\n",
    "\n",
    "        newSig[i] = {\"R\": R, \"s\": s, \"m\": m}\n",
    "\n",
    "    totalSig = Sig + newSig\n",
    "    print(\"====Verification====\")\n",
    "    start = time.time()\n",
    "    for sig in totalSig:\n",
    "        if not sig[\"R\"].x*pub_key+sig[\"s\"]*sig[\"R\"] == sig[\"m\"]*G:\n",
    "            print(\"Invalid signature!\")\n",
    "            break\n",
    "    mid = time.time()\n",
    "    intpoly = interp_poly(X, Y, field)\n",
    "    for i in range(len(newX)):\n",
    "        if not newY[i] == field.eval_poly(intpoly, newX[i]):\n",
    "            print(\"Invalid Polynomial!\")\n",
    "            break\n",
    "    end = time.time()\n",
    "    # print(\"%d\\t%.3f\" % (total - t, end-start))\n",
    "    print(\"%.5f\\t%.5f\\t%.5f\" %(mid-start, end-mid, end-start))"
   ]
  },
  {
   "cell_type": "code",
   "execution_count": 48,
   "metadata": {},
   "outputs": [
    {
     "name": "stdout",
     "output_type": "stream",
     "text": [
      "0.035753488540649414\n"
     ]
    }
   ],
   "source": [
    "start = time.time()\n",
    "m = 5629769104512241916374898635197064978639931267288972497570802529622899491984\n",
    "G = cipher_elg.curve.G\n",
    "\n",
    "k = random.randint(1, cipher_elg.curve.n)\n",
    "R = k*G\n",
    "s = ((m - R.x*pri_key) % cipher_elg.curve.n)*pow(k, -1, cipher_elg.curve.n)\n",
    "end = time.time()\n",
    "print(end-start)"
   ]
  },
  {
   "cell_type": "code",
   "execution_count": 41,
   "metadata": {},
   "outputs": [
    {
     "data": {
      "text/plain": [
       "Point(X=25925308374563577056337187563840106216851094811464287060394422874010956958108, Y=18408911787612780815544535466002952916973192127858523694264411514237170125450, Curve=Curve25519)"
      ]
     },
     "execution_count": 41,
     "metadata": {},
     "output_type": "execute_result"
    }
   ],
   "source": [
    "m*G"
   ]
  },
  {
   "cell_type": "code",
   "execution_count": 45,
   "metadata": {},
   "outputs": [
    {
     "data": {
      "text/plain": [
       "Point(X=25925308374563577056337187563840106216851094811464287060394422874010956958108, Y=18408911787612780815544535466002952916973192127858523694264411514237170125450, Curve=Curve25519)"
      ]
     },
     "execution_count": 45,
     "metadata": {},
     "output_type": "execute_result"
    }
   ],
   "source": [
    "R.x*pub_key+s*R"
   ]
  },
  {
   "cell_type": "code",
   "execution_count": 6,
   "metadata": {},
   "outputs": [],
   "source": [
    "def sort_by_first_element(a):\n",
    "    res = a\n",
    "\n",
    "    for i in range(len(a)):\n",
    "        for j in reversed(range(i)):\n",
    "            b = res[j][0] > res[j+1][0]\n",
    "            c0 = b*(res[j][0]-res[j+1][0])\n",
    "            c1 = b*(res[j][1]-res[j+1][1])\n",
    "            res[j][0], res[j+1][0] = res[j+1][0] + c0, res[j][0] - c0\n",
    "            res[j][1], res[j+1][1] = res[j+1][1] + c1, res[j][1] - c1\n",
    "    \n",
    "    return res"
   ]
  },
  {
   "cell_type": "code",
   "execution_count": 7,
   "metadata": {},
   "outputs": [
    {
     "data": {
      "text/plain": [
       "[[3.3, 2], [2.2, 0], [1.1, 1]]"
      ]
     },
     "execution_count": 7,
     "metadata": {},
     "output_type": "execute_result"
    }
   ],
   "source": [
    "sort_by_first_element([[2.2, 0], [1.1, 1], [3.3, 2]])"
   ]
  },
  {
   "cell_type": "code",
   "execution_count": 4,
   "metadata": {},
   "outputs": [
    {
     "data": {
      "text/plain": [
       "[1, 2.3]"
      ]
     },
     "execution_count": 4,
     "metadata": {},
     "output_type": "execute_result"
    }
   ],
   "source": [
    "[1, 2.3]"
   ]
  }
 ],
 "metadata": {
  "kernelspec": {
   "display_name": "Python 3",
   "language": "python",
   "name": "python3"
  },
  "language_info": {
   "codemirror_mode": {
    "name": "ipython",
    "version": 3
   },
   "file_extension": ".py",
   "mimetype": "text/x-python",
   "name": "python",
   "nbconvert_exporter": "python",
   "pygments_lexer": "ipython3",
   "version": "3.9.5"
  },
  "orig_nbformat": 4
 },
 "nbformat": 4,
 "nbformat_minor": 2
}
